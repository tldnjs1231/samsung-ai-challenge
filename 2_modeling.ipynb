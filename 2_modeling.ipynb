{
 "cells": [
  {
   "cell_type": "markdown",
   "id": "5c23b0fa",
   "metadata": {},
   "source": [
    "## Modeling\n",
    "- data preparation for modeling\n",
    "- design machine learning model"
   ]
  },
  {
   "cell_type": "code",
   "execution_count": 1,
   "id": "9a7e30af",
   "metadata": {},
   "outputs": [],
   "source": [
    "import pandas as pd\n",
    "import numpy as np\n",
    "import re\n",
    "import seaborn as sns\n",
    "import matplotlib.pyplot as plt\n",
    "import warnings\n",
    "warnings.simplefilter(action='ignore')"
   ]
  },
  {
   "cell_type": "code",
   "execution_count": 2,
   "id": "48548785",
   "metadata": {},
   "outputs": [],
   "source": [
    "from glob import glob\n",
    "from tqdm import tqdm"
   ]
  },
  {
   "cell_type": "code",
   "execution_count": 3,
   "id": "3a7ff346",
   "metadata": {},
   "outputs": [],
   "source": [
    "path = 'data/'\n",
    "\n",
    "sample = pd.read_csv(path + 'sample_submission.csv')\n",
    "train = pd.read_csv(path + 'train_set.ReorgE.csv')\n",
    "test = pd.read_csv(path + 'test_set.csv')"
   ]
  },
  {
   "cell_type": "code",
   "execution_count": 4,
   "id": "24933c02",
   "metadata": {},
   "outputs": [
    {
     "data": {
      "text/html": [
       "<div>\n",
       "<style scoped>\n",
       "    .dataframe tbody tr th:only-of-type {\n",
       "        vertical-align: middle;\n",
       "    }\n",
       "\n",
       "    .dataframe tbody tr th {\n",
       "        vertical-align: top;\n",
       "    }\n",
       "\n",
       "    .dataframe thead th {\n",
       "        text-align: right;\n",
       "    }\n",
       "</style>\n",
       "<table border=\"1\" class=\"dataframe\">\n",
       "  <thead>\n",
       "    <tr style=\"text-align: right;\">\n",
       "      <th></th>\n",
       "      <th>index</th>\n",
       "      <th>SMILES</th>\n",
       "      <th>Reorg_g</th>\n",
       "      <th>Reorg_ex</th>\n",
       "    </tr>\n",
       "  </thead>\n",
       "  <tbody>\n",
       "    <tr>\n",
       "      <th>0</th>\n",
       "      <td>train_0</td>\n",
       "      <td>CC[C@H]1CCCCN1C(=O)[C@@H](C)OC(=O)c1c(C)oc(-n2...</td>\n",
       "      <td>0.631486</td>\n",
       "      <td>0.535060</td>\n",
       "    </tr>\n",
       "    <tr>\n",
       "      <th>1</th>\n",
       "      <td>train_1</td>\n",
       "      <td>O[C@@H](CNC1CC1)CN1CCc2sccc2C1</td>\n",
       "      <td>0.825901</td>\n",
       "      <td>1.116781</td>\n",
       "    </tr>\n",
       "    <tr>\n",
       "      <th>2</th>\n",
       "      <td>train_2</td>\n",
       "      <td>N#CCCNC(=O)[C@@]1(O)CCSC1</td>\n",
       "      <td>1.463943</td>\n",
       "      <td>0.964848</td>\n",
       "    </tr>\n",
       "    <tr>\n",
       "      <th>3</th>\n",
       "      <td>train_3</td>\n",
       "      <td>COC[C@H]1CN(c2ccc(OCC[C@@H](C)O)cc2)C(=O)O1</td>\n",
       "      <td>0.166669</td>\n",
       "      <td>0.161458</td>\n",
       "    </tr>\n",
       "    <tr>\n",
       "      <th>4</th>\n",
       "      <td>train_4</td>\n",
       "      <td>N#Cc1c(-c2ccccc2OCC(N)=O)[nH]c(C(N)=O)c1N</td>\n",
       "      <td>0.313820</td>\n",
       "      <td>0.338862</td>\n",
       "    </tr>\n",
       "    <tr>\n",
       "      <th>...</th>\n",
       "      <td>...</td>\n",
       "      <td>...</td>\n",
       "      <td>...</td>\n",
       "      <td>...</td>\n",
       "    </tr>\n",
       "    <tr>\n",
       "      <th>18152</th>\n",
       "      <td>train_18152</td>\n",
       "      <td>CC(=O)Nc1ccc2ccc3cccc4ccc1c2c34</td>\n",
       "      <td>0.146917</td>\n",
       "      <td>0.143084</td>\n",
       "    </tr>\n",
       "    <tr>\n",
       "      <th>18153</th>\n",
       "      <td>train_18153</td>\n",
       "      <td>CC(C)(C)c1ccccc1N(c1ccccc1)c1ccc(S(=O)(=O)c2cc...</td>\n",
       "      <td>0.612898</td>\n",
       "      <td>0.500668</td>\n",
       "    </tr>\n",
       "    <tr>\n",
       "      <th>18154</th>\n",
       "      <td>train_18154</td>\n",
       "      <td>CN(C)c1ccc(C(=O)Nc2ccccc2)cc1</td>\n",
       "      <td>1.218777</td>\n",
       "      <td>1.048954</td>\n",
       "    </tr>\n",
       "    <tr>\n",
       "      <th>18155</th>\n",
       "      <td>train_18155</td>\n",
       "      <td>c1ccc(N(c2ccccc2)c2ccc(-c3ncc(-c4ccc(-c5cnc(-c...</td>\n",
       "      <td>0.145292</td>\n",
       "      <td>0.182589</td>\n",
       "    </tr>\n",
       "    <tr>\n",
       "      <th>18156</th>\n",
       "      <td>train_18156</td>\n",
       "      <td>COCCC1(CCOC)c2cc(-c3ccc(OC)cc3)ccc2-c2ccc(-c3c...</td>\n",
       "      <td>0.252465</td>\n",
       "      <td>0.306627</td>\n",
       "    </tr>\n",
       "  </tbody>\n",
       "</table>\n",
       "<p>18157 rows × 4 columns</p>\n",
       "</div>"
      ],
      "text/plain": [
       "             index                                             SMILES  \\\n",
       "0          train_0  CC[C@H]1CCCCN1C(=O)[C@@H](C)OC(=O)c1c(C)oc(-n2...   \n",
       "1          train_1                     O[C@@H](CNC1CC1)CN1CCc2sccc2C1   \n",
       "2          train_2                          N#CCCNC(=O)[C@@]1(O)CCSC1   \n",
       "3          train_3        COC[C@H]1CN(c2ccc(OCC[C@@H](C)O)cc2)C(=O)O1   \n",
       "4          train_4          N#Cc1c(-c2ccccc2OCC(N)=O)[nH]c(C(N)=O)c1N   \n",
       "...            ...                                                ...   \n",
       "18152  train_18152                    CC(=O)Nc1ccc2ccc3cccc4ccc1c2c34   \n",
       "18153  train_18153  CC(C)(C)c1ccccc1N(c1ccccc1)c1ccc(S(=O)(=O)c2cc...   \n",
       "18154  train_18154                      CN(C)c1ccc(C(=O)Nc2ccccc2)cc1   \n",
       "18155  train_18155  c1ccc(N(c2ccccc2)c2ccc(-c3ncc(-c4ccc(-c5cnc(-c...   \n",
       "18156  train_18156  COCCC1(CCOC)c2cc(-c3ccc(OC)cc3)ccc2-c2ccc(-c3c...   \n",
       "\n",
       "        Reorg_g  Reorg_ex  \n",
       "0      0.631486  0.535060  \n",
       "1      0.825901  1.116781  \n",
       "2      1.463943  0.964848  \n",
       "3      0.166669  0.161458  \n",
       "4      0.313820  0.338862  \n",
       "...         ...       ...  \n",
       "18152  0.146917  0.143084  \n",
       "18153  0.612898  0.500668  \n",
       "18154  1.218777  1.048954  \n",
       "18155  0.145292  0.182589  \n",
       "18156  0.252465  0.306627  \n",
       "\n",
       "[18157 rows x 4 columns]"
      ]
     },
     "execution_count": 4,
     "metadata": {},
     "output_type": "execute_result"
    }
   ],
   "source": [
    "train"
   ]
  },
  {
   "cell_type": "markdown",
   "id": "60ec5c7f",
   "metadata": {},
   "source": [
    "### Preparing Data for Modeling\n",
    "- reorganize train dataset\n",
    "    - define feature and label\n",
    "    - train test split"
   ]
  },
  {
   "cell_type": "code",
   "execution_count": 5,
   "id": "38b9f29d",
   "metadata": {},
   "outputs": [],
   "source": [
    "train_g = pd.read_csv('train_g.csv')\n",
    "train_ex = pd.read_csv('train_ex.csv')"
   ]
  },
  {
   "cell_type": "code",
   "execution_count": 6,
   "id": "f95db7bf",
   "metadata": {},
   "outputs": [],
   "source": [
    "train_g['Reorg'] = train['Reorg_g']\n",
    "train_ex['Reorg'] = train['Reorg_ex']"
   ]
  },
  {
   "cell_type": "code",
   "execution_count": 7,
   "id": "e17c6da5",
   "metadata": {},
   "outputs": [
    {
     "data": {
      "text/html": [
       "<div>\n",
       "<style scoped>\n",
       "    .dataframe tbody tr th:only-of-type {\n",
       "        vertical-align: middle;\n",
       "    }\n",
       "\n",
       "    .dataframe tbody tr th {\n",
       "        vertical-align: top;\n",
       "    }\n",
       "\n",
       "    .dataframe thead th {\n",
       "        text-align: right;\n",
       "    }\n",
       "</style>\n",
       "<table border=\"1\" class=\"dataframe\">\n",
       "  <thead>\n",
       "    <tr style=\"text-align: right;\">\n",
       "      <th></th>\n",
       "      <th>dist</th>\n",
       "      <th>at_n</th>\n",
       "      <th>at_w</th>\n",
       "      <th>el_neg</th>\n",
       "      <th>ion_en</th>\n",
       "      <th>el_aff</th>\n",
       "      <th>mp</th>\n",
       "      <th>bp</th>\n",
       "      <th>den</th>\n",
       "      <th>len</th>\n",
       "      <th>bond_en</th>\n",
       "      <th>Reorg</th>\n",
       "    </tr>\n",
       "  </thead>\n",
       "  <tbody>\n",
       "    <tr>\n",
       "      <th>0</th>\n",
       "      <td>7.421214</td>\n",
       "      <td>3.849057</td>\n",
       "      <td>7.234868</td>\n",
       "      <td>2.479811</td>\n",
       "      <td>12.726113</td>\n",
       "      <td>1.024340</td>\n",
       "      <td>1528.964906</td>\n",
       "      <td>1644.488302</td>\n",
       "      <td>0.898466</td>\n",
       "      <td>1.274554</td>\n",
       "      <td>416.872727</td>\n",
       "      <td>0.631486</td>\n",
       "    </tr>\n",
       "    <tr>\n",
       "      <th>1</th>\n",
       "      <td>4.567176</td>\n",
       "      <td>3.675676</td>\n",
       "      <td>6.821243</td>\n",
       "      <td>2.412162</td>\n",
       "      <td>12.740162</td>\n",
       "      <td>1.001057</td>\n",
       "      <td>1366.060000</td>\n",
       "      <td>1476.818108</td>\n",
       "      <td>0.852533</td>\n",
       "      <td>1.289784</td>\n",
       "      <td>384.307692</td>\n",
       "      <td>0.825901</td>\n",
       "    </tr>\n",
       "    <tr>\n",
       "      <th>2</th>\n",
       "      <td>7.972815</td>\n",
       "      <td>4.240000</td>\n",
       "      <td>8.010640</td>\n",
       "      <td>2.493600</td>\n",
       "      <td>12.796800</td>\n",
       "      <td>1.050043</td>\n",
       "      <td>1254.924000</td>\n",
       "      <td>1363.209200</td>\n",
       "      <td>0.808378</td>\n",
       "      <td>1.298106</td>\n",
       "      <td>409.160000</td>\n",
       "      <td>1.463943</td>\n",
       "    </tr>\n",
       "    <tr>\n",
       "      <th>3</th>\n",
       "      <td>9.343431</td>\n",
       "      <td>3.761905</td>\n",
       "      <td>7.031786</td>\n",
       "      <td>2.492619</td>\n",
       "      <td>12.787667</td>\n",
       "      <td>1.026439</td>\n",
       "      <td>1380.237143</td>\n",
       "      <td>1486.291429</td>\n",
       "      <td>0.809888</td>\n",
       "      <td>1.263025</td>\n",
       "      <td>406.348837</td>\n",
       "      <td>0.166669</td>\n",
       "    </tr>\n",
       "    <tr>\n",
       "      <th>4</th>\n",
       "      <td>6.102327</td>\n",
       "      <td>4.457143</td>\n",
       "      <td>8.551143</td>\n",
       "      <td>2.566286</td>\n",
       "      <td>12.798229</td>\n",
       "      <td>1.062233</td>\n",
       "      <td>1548.010286</td>\n",
       "      <td>1665.515429</td>\n",
       "      <td>0.907135</td>\n",
       "      <td>1.263479</td>\n",
       "      <td>435.333333</td>\n",
       "      <td>0.313820</td>\n",
       "    </tr>\n",
       "  </tbody>\n",
       "</table>\n",
       "</div>"
      ],
      "text/plain": [
       "       dist      at_n      at_w    el_neg     ion_en    el_aff           mp  \\\n",
       "0  7.421214  3.849057  7.234868  2.479811  12.726113  1.024340  1528.964906   \n",
       "1  4.567176  3.675676  6.821243  2.412162  12.740162  1.001057  1366.060000   \n",
       "2  7.972815  4.240000  8.010640  2.493600  12.796800  1.050043  1254.924000   \n",
       "3  9.343431  3.761905  7.031786  2.492619  12.787667  1.026439  1380.237143   \n",
       "4  6.102327  4.457143  8.551143  2.566286  12.798229  1.062233  1548.010286   \n",
       "\n",
       "            bp       den       len     bond_en     Reorg  \n",
       "0  1644.488302  0.898466  1.274554  416.872727  0.631486  \n",
       "1  1476.818108  0.852533  1.289784  384.307692  0.825901  \n",
       "2  1363.209200  0.808378  1.298106  409.160000  1.463943  \n",
       "3  1486.291429  0.809888  1.263025  406.348837  0.166669  \n",
       "4  1665.515429  0.907135  1.263479  435.333333  0.313820  "
      ]
     },
     "execution_count": 7,
     "metadata": {},
     "output_type": "execute_result"
    }
   ],
   "source": [
    "train_g.head()"
   ]
  },
  {
   "cell_type": "code",
   "execution_count": 8,
   "id": "b8156ece",
   "metadata": {},
   "outputs": [
    {
     "data": {
      "text/html": [
       "<div>\n",
       "<style scoped>\n",
       "    .dataframe tbody tr th:only-of-type {\n",
       "        vertical-align: middle;\n",
       "    }\n",
       "\n",
       "    .dataframe tbody tr th {\n",
       "        vertical-align: top;\n",
       "    }\n",
       "\n",
       "    .dataframe thead th {\n",
       "        text-align: right;\n",
       "    }\n",
       "</style>\n",
       "<table border=\"1\" class=\"dataframe\">\n",
       "  <thead>\n",
       "    <tr style=\"text-align: right;\">\n",
       "      <th></th>\n",
       "      <th>dist</th>\n",
       "      <th>at_n</th>\n",
       "      <th>at_w</th>\n",
       "      <th>el_neg</th>\n",
       "      <th>ion_en</th>\n",
       "      <th>el_aff</th>\n",
       "      <th>mp</th>\n",
       "      <th>bp</th>\n",
       "      <th>den</th>\n",
       "      <th>len</th>\n",
       "      <th>bond_en</th>\n",
       "      <th>Reorg</th>\n",
       "    </tr>\n",
       "  </thead>\n",
       "  <tbody>\n",
       "    <tr>\n",
       "      <th>0</th>\n",
       "      <td>7.419384</td>\n",
       "      <td>3.849057</td>\n",
       "      <td>7.234868</td>\n",
       "      <td>2.479811</td>\n",
       "      <td>12.726113</td>\n",
       "      <td>1.024340</td>\n",
       "      <td>1528.964906</td>\n",
       "      <td>1644.488302</td>\n",
       "      <td>0.898466</td>\n",
       "      <td>1.277462</td>\n",
       "      <td>416.872727</td>\n",
       "      <td>0.535060</td>\n",
       "    </tr>\n",
       "    <tr>\n",
       "      <th>1</th>\n",
       "      <td>4.480080</td>\n",
       "      <td>3.675676</td>\n",
       "      <td>6.821243</td>\n",
       "      <td>2.412162</td>\n",
       "      <td>12.740162</td>\n",
       "      <td>1.001057</td>\n",
       "      <td>1366.060000</td>\n",
       "      <td>1476.818108</td>\n",
       "      <td>0.852533</td>\n",
       "      <td>1.292906</td>\n",
       "      <td>384.307692</td>\n",
       "      <td>1.116781</td>\n",
       "    </tr>\n",
       "    <tr>\n",
       "      <th>2</th>\n",
       "      <td>7.975893</td>\n",
       "      <td>4.240000</td>\n",
       "      <td>8.010640</td>\n",
       "      <td>2.493600</td>\n",
       "      <td>12.796800</td>\n",
       "      <td>1.050043</td>\n",
       "      <td>1254.924000</td>\n",
       "      <td>1363.209200</td>\n",
       "      <td>0.808378</td>\n",
       "      <td>1.303473</td>\n",
       "      <td>409.160000</td>\n",
       "      <td>0.964848</td>\n",
       "    </tr>\n",
       "    <tr>\n",
       "      <th>3</th>\n",
       "      <td>9.344530</td>\n",
       "      <td>3.761905</td>\n",
       "      <td>7.031786</td>\n",
       "      <td>2.492619</td>\n",
       "      <td>12.787667</td>\n",
       "      <td>1.026439</td>\n",
       "      <td>1380.237143</td>\n",
       "      <td>1486.291429</td>\n",
       "      <td>0.809888</td>\n",
       "      <td>1.265426</td>\n",
       "      <td>406.348837</td>\n",
       "      <td>0.161458</td>\n",
       "    </tr>\n",
       "    <tr>\n",
       "      <th>4</th>\n",
       "      <td>6.113824</td>\n",
       "      <td>4.457143</td>\n",
       "      <td>8.551143</td>\n",
       "      <td>2.566286</td>\n",
       "      <td>12.798229</td>\n",
       "      <td>1.062233</td>\n",
       "      <td>1548.010286</td>\n",
       "      <td>1665.515429</td>\n",
       "      <td>0.907135</td>\n",
       "      <td>1.265641</td>\n",
       "      <td>435.333333</td>\n",
       "      <td>0.338862</td>\n",
       "    </tr>\n",
       "  </tbody>\n",
       "</table>\n",
       "</div>"
      ],
      "text/plain": [
       "       dist      at_n      at_w    el_neg     ion_en    el_aff           mp  \\\n",
       "0  7.419384  3.849057  7.234868  2.479811  12.726113  1.024340  1528.964906   \n",
       "1  4.480080  3.675676  6.821243  2.412162  12.740162  1.001057  1366.060000   \n",
       "2  7.975893  4.240000  8.010640  2.493600  12.796800  1.050043  1254.924000   \n",
       "3  9.344530  3.761905  7.031786  2.492619  12.787667  1.026439  1380.237143   \n",
       "4  6.113824  4.457143  8.551143  2.566286  12.798229  1.062233  1548.010286   \n",
       "\n",
       "            bp       den       len     bond_en     Reorg  \n",
       "0  1644.488302  0.898466  1.277462  416.872727  0.535060  \n",
       "1  1476.818108  0.852533  1.292906  384.307692  1.116781  \n",
       "2  1363.209200  0.808378  1.303473  409.160000  0.964848  \n",
       "3  1486.291429  0.809888  1.265426  406.348837  0.161458  \n",
       "4  1665.515429  0.907135  1.265641  435.333333  0.338862  "
      ]
     },
     "execution_count": 8,
     "metadata": {},
     "output_type": "execute_result"
    }
   ],
   "source": [
    "train_ex.head()"
   ]
  },
  {
   "cell_type": "code",
   "execution_count": 9,
   "id": "ab4c5ef4",
   "metadata": {},
   "outputs": [
    {
     "data": {
      "text/html": [
       "<div>\n",
       "<style scoped>\n",
       "    .dataframe tbody tr th:only-of-type {\n",
       "        vertical-align: middle;\n",
       "    }\n",
       "\n",
       "    .dataframe tbody tr th {\n",
       "        vertical-align: top;\n",
       "    }\n",
       "\n",
       "    .dataframe thead th {\n",
       "        text-align: right;\n",
       "    }\n",
       "</style>\n",
       "<table border=\"1\" class=\"dataframe\">\n",
       "  <thead>\n",
       "    <tr style=\"text-align: right;\">\n",
       "      <th></th>\n",
       "      <th>dist</th>\n",
       "      <th>at_n</th>\n",
       "      <th>at_w</th>\n",
       "      <th>el_neg</th>\n",
       "      <th>ion_en</th>\n",
       "      <th>el_aff</th>\n",
       "      <th>mp</th>\n",
       "      <th>bp</th>\n",
       "      <th>den</th>\n",
       "      <th>len</th>\n",
       "      <th>bond_en</th>\n",
       "      <th>Reorg</th>\n",
       "    </tr>\n",
       "  </thead>\n",
       "  <tbody>\n",
       "    <tr>\n",
       "      <th>0</th>\n",
       "      <td>7.421214</td>\n",
       "      <td>3.849057</td>\n",
       "      <td>7.234868</td>\n",
       "      <td>2.479811</td>\n",
       "      <td>12.726113</td>\n",
       "      <td>1.024340</td>\n",
       "      <td>1528.964906</td>\n",
       "      <td>1644.488302</td>\n",
       "      <td>0.898466</td>\n",
       "      <td>1.274554</td>\n",
       "      <td>416.872727</td>\n",
       "      <td>0.631486</td>\n",
       "    </tr>\n",
       "    <tr>\n",
       "      <th>1</th>\n",
       "      <td>4.567176</td>\n",
       "      <td>3.675676</td>\n",
       "      <td>6.821243</td>\n",
       "      <td>2.412162</td>\n",
       "      <td>12.740162</td>\n",
       "      <td>1.001057</td>\n",
       "      <td>1366.060000</td>\n",
       "      <td>1476.818108</td>\n",
       "      <td>0.852533</td>\n",
       "      <td>1.289784</td>\n",
       "      <td>384.307692</td>\n",
       "      <td>0.825901</td>\n",
       "    </tr>\n",
       "    <tr>\n",
       "      <th>2</th>\n",
       "      <td>7.972815</td>\n",
       "      <td>4.240000</td>\n",
       "      <td>8.010640</td>\n",
       "      <td>2.493600</td>\n",
       "      <td>12.796800</td>\n",
       "      <td>1.050043</td>\n",
       "      <td>1254.924000</td>\n",
       "      <td>1363.209200</td>\n",
       "      <td>0.808378</td>\n",
       "      <td>1.298106</td>\n",
       "      <td>409.160000</td>\n",
       "      <td>1.463943</td>\n",
       "    </tr>\n",
       "    <tr>\n",
       "      <th>3</th>\n",
       "      <td>9.343431</td>\n",
       "      <td>3.761905</td>\n",
       "      <td>7.031786</td>\n",
       "      <td>2.492619</td>\n",
       "      <td>12.787667</td>\n",
       "      <td>1.026439</td>\n",
       "      <td>1380.237143</td>\n",
       "      <td>1486.291429</td>\n",
       "      <td>0.809888</td>\n",
       "      <td>1.263025</td>\n",
       "      <td>406.348837</td>\n",
       "      <td>0.166669</td>\n",
       "    </tr>\n",
       "    <tr>\n",
       "      <th>4</th>\n",
       "      <td>6.102327</td>\n",
       "      <td>4.457143</td>\n",
       "      <td>8.551143</td>\n",
       "      <td>2.566286</td>\n",
       "      <td>12.798229</td>\n",
       "      <td>1.062233</td>\n",
       "      <td>1548.010286</td>\n",
       "      <td>1665.515429</td>\n",
       "      <td>0.907135</td>\n",
       "      <td>1.263479</td>\n",
       "      <td>435.333333</td>\n",
       "      <td>0.313820</td>\n",
       "    </tr>\n",
       "    <tr>\n",
       "      <th>...</th>\n",
       "      <td>...</td>\n",
       "      <td>...</td>\n",
       "      <td>...</td>\n",
       "      <td>...</td>\n",
       "      <td>...</td>\n",
       "      <td>...</td>\n",
       "      <td>...</td>\n",
       "      <td>...</td>\n",
       "      <td>...</td>\n",
       "      <td>...</td>\n",
       "      <td>...</td>\n",
       "      <td>...</td>\n",
       "    </tr>\n",
       "    <tr>\n",
       "      <th>36309</th>\n",
       "      <td>6.685352</td>\n",
       "      <td>4.121212</td>\n",
       "      <td>7.857818</td>\n",
       "      <td>2.453939</td>\n",
       "      <td>12.351697</td>\n",
       "      <td>1.062406</td>\n",
       "      <td>2094.273939</td>\n",
       "      <td>2248.339394</td>\n",
       "      <td>1.236662</td>\n",
       "      <td>1.295104</td>\n",
       "      <td>435.972222</td>\n",
       "      <td>0.143084</td>\n",
       "    </tr>\n",
       "    <tr>\n",
       "      <th>36310</th>\n",
       "      <td>6.538838</td>\n",
       "      <td>4.018868</td>\n",
       "      <td>7.595132</td>\n",
       "      <td>2.434906</td>\n",
       "      <td>12.452491</td>\n",
       "      <td>1.051346</td>\n",
       "      <td>1820.125849</td>\n",
       "      <td>1960.608113</td>\n",
       "      <td>1.108458</td>\n",
       "      <td>1.312676</td>\n",
       "      <td>424.123810</td>\n",
       "      <td>0.500668</td>\n",
       "    </tr>\n",
       "    <tr>\n",
       "      <th>36311</th>\n",
       "      <td>6.649195</td>\n",
       "      <td>3.764706</td>\n",
       "      <td>7.067824</td>\n",
       "      <td>2.440294</td>\n",
       "      <td>12.622176</td>\n",
       "      <td>1.014688</td>\n",
       "      <td>1698.430000</td>\n",
       "      <td>1824.688235</td>\n",
       "      <td>1.000305</td>\n",
       "      <td>1.263567</td>\n",
       "      <td>425.971429</td>\n",
       "      <td>1.048954</td>\n",
       "    </tr>\n",
       "    <tr>\n",
       "      <th>36312</th>\n",
       "      <td>13.415828</td>\n",
       "      <td>4.517647</td>\n",
       "      <td>8.670588</td>\n",
       "      <td>2.442353</td>\n",
       "      <td>12.262494</td>\n",
       "      <td>1.092062</td>\n",
       "      <td>2090.795294</td>\n",
       "      <td>2254.348824</td>\n",
       "      <td>1.299893</td>\n",
       "      <td>1.318533</td>\n",
       "      <td>426.408602</td>\n",
       "      <td>0.182589</td>\n",
       "    </tr>\n",
       "    <tr>\n",
       "      <th>36313</th>\n",
       "      <td>9.563510</td>\n",
       "      <td>3.696429</td>\n",
       "      <td>6.919625</td>\n",
       "      <td>2.428929</td>\n",
       "      <td>12.513571</td>\n",
       "      <td>1.028196</td>\n",
       "      <td>1784.534821</td>\n",
       "      <td>1917.252857</td>\n",
       "      <td>1.052656</td>\n",
       "      <td>1.305255</td>\n",
       "      <td>415.971698</td>\n",
       "      <td>0.306627</td>\n",
       "    </tr>\n",
       "  </tbody>\n",
       "</table>\n",
       "<p>36314 rows × 12 columns</p>\n",
       "</div>"
      ],
      "text/plain": [
       "            dist      at_n      at_w    el_neg     ion_en    el_aff  \\\n",
       "0       7.421214  3.849057  7.234868  2.479811  12.726113  1.024340   \n",
       "1       4.567176  3.675676  6.821243  2.412162  12.740162  1.001057   \n",
       "2       7.972815  4.240000  8.010640  2.493600  12.796800  1.050043   \n",
       "3       9.343431  3.761905  7.031786  2.492619  12.787667  1.026439   \n",
       "4       6.102327  4.457143  8.551143  2.566286  12.798229  1.062233   \n",
       "...          ...       ...       ...       ...        ...       ...   \n",
       "36309   6.685352  4.121212  7.857818  2.453939  12.351697  1.062406   \n",
       "36310   6.538838  4.018868  7.595132  2.434906  12.452491  1.051346   \n",
       "36311   6.649195  3.764706  7.067824  2.440294  12.622176  1.014688   \n",
       "36312  13.415828  4.517647  8.670588  2.442353  12.262494  1.092062   \n",
       "36313   9.563510  3.696429  6.919625  2.428929  12.513571  1.028196   \n",
       "\n",
       "                mp           bp       den       len     bond_en     Reorg  \n",
       "0      1528.964906  1644.488302  0.898466  1.274554  416.872727  0.631486  \n",
       "1      1366.060000  1476.818108  0.852533  1.289784  384.307692  0.825901  \n",
       "2      1254.924000  1363.209200  0.808378  1.298106  409.160000  1.463943  \n",
       "3      1380.237143  1486.291429  0.809888  1.263025  406.348837  0.166669  \n",
       "4      1548.010286  1665.515429  0.907135  1.263479  435.333333  0.313820  \n",
       "...            ...          ...       ...       ...         ...       ...  \n",
       "36309  2094.273939  2248.339394  1.236662  1.295104  435.972222  0.143084  \n",
       "36310  1820.125849  1960.608113  1.108458  1.312676  424.123810  0.500668  \n",
       "36311  1698.430000  1824.688235  1.000305  1.263567  425.971429  1.048954  \n",
       "36312  2090.795294  2254.348824  1.299893  1.318533  426.408602  0.182589  \n",
       "36313  1784.534821  1917.252857  1.052656  1.305255  415.971698  0.306627  \n",
       "\n",
       "[36314 rows x 12 columns]"
      ]
     },
     "execution_count": 9,
     "metadata": {},
     "output_type": "execute_result"
    }
   ],
   "source": [
    "train_set = pd.concat([train_g, train_ex], ignore_index=True)\n",
    "train_set"
   ]
  },
  {
   "cell_type": "code",
   "execution_count": 10,
   "id": "e86a66dd",
   "metadata": {},
   "outputs": [],
   "source": [
    "train_set.to_csv('train_set.csv', index=False)"
   ]
  },
  {
   "cell_type": "markdown",
   "id": "7cd2ddbb",
   "metadata": {},
   "source": [
    "#### define feature and label"
   ]
  },
  {
   "cell_type": "code",
   "execution_count": 11,
   "id": "18870ed8",
   "metadata": {},
   "outputs": [],
   "source": [
    "train_set = pd.read_csv('train_set.csv')"
   ]
  },
  {
   "cell_type": "code",
   "execution_count": 12,
   "id": "4982d9d5",
   "metadata": {},
   "outputs": [
    {
     "data": {
      "text/plain": [
       "Index(['dist', 'at_n', 'at_w', 'el_neg', 'ion_en', 'el_aff', 'mp', 'bp', 'den',\n",
       "       'len', 'bond_en', 'Reorg'],\n",
       "      dtype='object')"
      ]
     },
     "execution_count": 12,
     "metadata": {},
     "output_type": "execute_result"
    }
   ],
   "source": [
    "train_set.columns"
   ]
  },
  {
   "cell_type": "code",
   "execution_count": 8,
   "id": "7da1bdb7",
   "metadata": {},
   "outputs": [],
   "source": [
    "features = ['dist', 'at_n', 'at_w', 'el_neg', 'ion_en',\n",
    "            'el_aff', 'mp', 'bp', 'den', 'len', 'bond_en']\n",
    "label = 'Reorg'"
   ]
  },
  {
   "cell_type": "markdown",
   "id": "fa576b0e",
   "metadata": {},
   "source": [
    "#### train test split\n",
    "- systematic sampling"
   ]
  },
  {
   "cell_type": "code",
   "execution_count": 14,
   "id": "b365c9b6",
   "metadata": {},
   "outputs": [],
   "source": [
    "train_df = train_set[0::2].reset_index()\n",
    "test_df = train_set[1::2].reset_index()"
   ]
  },
  {
   "cell_type": "code",
   "execution_count": 15,
   "id": "bae80da7",
   "metadata": {},
   "outputs": [],
   "source": [
    "X_train, y_train = train_df[features], train_df[label]\n",
    "X_test, y_test = test_df[features], test_df[label]"
   ]
  },
  {
   "cell_type": "markdown",
   "id": "139f93e1",
   "metadata": {},
   "source": [
    "### Modeling and Evaluation"
   ]
  },
  {
   "cell_type": "code",
   "execution_count": 6,
   "id": "d2e72b39",
   "metadata": {},
   "outputs": [],
   "source": [
    "from sklearn.ensemble import RandomForestRegressor as rf"
   ]
  },
  {
   "cell_type": "code",
   "execution_count": 17,
   "id": "ed4bbb49",
   "metadata": {},
   "outputs": [
    {
     "data": {
      "text/plain": [
       "RandomForestRegressor(n_jobs=-1)"
      ]
     },
     "execution_count": 17,
     "metadata": {},
     "output_type": "execute_result"
    }
   ],
   "source": [
    "model = rf(n_jobs=-1)\n",
    "model.fit(X_train, y_train)"
   ]
  },
  {
   "cell_type": "code",
   "execution_count": 18,
   "id": "17e9561d",
   "metadata": {},
   "outputs": [
    {
     "data": {
      "text/plain": [
       "(0.8801287164244126, 0.5375262692158845)"
      ]
     },
     "execution_count": 18,
     "metadata": {},
     "output_type": "execute_result"
    }
   ],
   "source": [
    "model.score(X_train, y_train), model.score(X_test, y_test)"
   ]
  },
  {
   "cell_type": "markdown",
   "id": "1c075e9c",
   "metadata": {},
   "source": [
    "#### log transformation"
   ]
  },
  {
   "cell_type": "code",
   "execution_count": 19,
   "id": "15c9488d",
   "metadata": {},
   "outputs": [],
   "source": [
    "train_set['Reorg'] = np.log(train_set['Reorg'])"
   ]
  },
  {
   "cell_type": "code",
   "execution_count": 20,
   "id": "0a216db4",
   "metadata": {},
   "outputs": [],
   "source": [
    "train_df = train_set[0::2].reset_index()\n",
    "test_df = train_set[1::2].reset_index()"
   ]
  },
  {
   "cell_type": "code",
   "execution_count": 22,
   "id": "7fcab4d0",
   "metadata": {},
   "outputs": [],
   "source": [
    "X_train, y_train = train_df[features], train_df[label]\n",
    "X_test, y_test = test_df[features], test_df[label]"
   ]
  },
  {
   "cell_type": "code",
   "execution_count": 23,
   "id": "642d378a",
   "metadata": {},
   "outputs": [
    {
     "data": {
      "text/plain": [
       "RandomForestRegressor(n_jobs=-1)"
      ]
     },
     "execution_count": 23,
     "metadata": {},
     "output_type": "execute_result"
    }
   ],
   "source": [
    "log_m = rf(n_jobs=-1)\n",
    "log_m.fit(X_train, y_train)"
   ]
  },
  {
   "cell_type": "code",
   "execution_count": 24,
   "id": "474b5a43",
   "metadata": {},
   "outputs": [
    {
     "data": {
      "text/plain": [
       "(0.8811399177784986, 0.5697468009809621)"
      ]
     },
     "execution_count": 24,
     "metadata": {},
     "output_type": "execute_result"
    }
   ],
   "source": [
    "log_m.score(X_train, y_train), log_m.score(X_test, y_test)"
   ]
  },
  {
   "cell_type": "markdown",
   "id": "3f03a8b0",
   "metadata": {},
   "source": [
    "## Submission\n",
    "- prepare test_set\n",
    "- modeling and evaluation"
   ]
  },
  {
   "cell_type": "markdown",
   "id": "8867bb64",
   "metadata": {},
   "source": [
    "### Preparing test_set"
   ]
  },
  {
   "cell_type": "code",
   "execution_count": 25,
   "id": "0ecbe8ec",
   "metadata": {},
   "outputs": [],
   "source": [
    "test_g = pd.read_csv('test_g.csv')\n",
    "test_ex = pd.read_csv('test_ex.csv')"
   ]
  },
  {
   "cell_type": "code",
   "execution_count": 26,
   "id": "6d2c45cf",
   "metadata": {},
   "outputs": [],
   "source": [
    "test_set = pd.concat([test_g, test_ex], ignore_index=True)"
   ]
  },
  {
   "cell_type": "code",
   "execution_count": 27,
   "id": "2812fa8d",
   "metadata": {},
   "outputs": [],
   "source": [
    "test_set.to_csv('test_set.csv', index=False)"
   ]
  },
  {
   "cell_type": "markdown",
   "id": "dc9808de",
   "metadata": {},
   "source": [
    "### Modeling and Evaluation"
   ]
  },
  {
   "cell_type": "code",
   "execution_count": 28,
   "id": "434035b8",
   "metadata": {},
   "outputs": [],
   "source": [
    "train_set = pd.read_csv('train_set.csv')\n",
    "test_set = pd.read_csv('test_set.csv')"
   ]
  },
  {
   "cell_type": "code",
   "execution_count": 29,
   "id": "ac3c105f",
   "metadata": {
    "scrolled": true
   },
   "outputs": [
    {
     "data": {
      "text/html": [
       "<div>\n",
       "<style scoped>\n",
       "    .dataframe tbody tr th:only-of-type {\n",
       "        vertical-align: middle;\n",
       "    }\n",
       "\n",
       "    .dataframe tbody tr th {\n",
       "        vertical-align: top;\n",
       "    }\n",
       "\n",
       "    .dataframe thead th {\n",
       "        text-align: right;\n",
       "    }\n",
       "</style>\n",
       "<table border=\"1\" class=\"dataframe\">\n",
       "  <thead>\n",
       "    <tr style=\"text-align: right;\">\n",
       "      <th></th>\n",
       "      <th>dist</th>\n",
       "      <th>at_n</th>\n",
       "      <th>at_w</th>\n",
       "      <th>el_neg</th>\n",
       "      <th>ion_en</th>\n",
       "      <th>el_aff</th>\n",
       "      <th>mp</th>\n",
       "      <th>bp</th>\n",
       "      <th>den</th>\n",
       "      <th>len</th>\n",
       "      <th>bond_en</th>\n",
       "      <th>Reorg</th>\n",
       "    </tr>\n",
       "  </thead>\n",
       "  <tbody>\n",
       "    <tr>\n",
       "      <th>0</th>\n",
       "      <td>7.421214</td>\n",
       "      <td>3.849057</td>\n",
       "      <td>7.234868</td>\n",
       "      <td>2.479811</td>\n",
       "      <td>12.726113</td>\n",
       "      <td>1.024340</td>\n",
       "      <td>1528.964906</td>\n",
       "      <td>1644.488302</td>\n",
       "      <td>0.898466</td>\n",
       "      <td>1.274554</td>\n",
       "      <td>416.872727</td>\n",
       "      <td>0.631486</td>\n",
       "    </tr>\n",
       "    <tr>\n",
       "      <th>1</th>\n",
       "      <td>4.567176</td>\n",
       "      <td>3.675676</td>\n",
       "      <td>6.821243</td>\n",
       "      <td>2.412162</td>\n",
       "      <td>12.740162</td>\n",
       "      <td>1.001057</td>\n",
       "      <td>1366.060000</td>\n",
       "      <td>1476.818108</td>\n",
       "      <td>0.852533</td>\n",
       "      <td>1.289784</td>\n",
       "      <td>384.307692</td>\n",
       "      <td>0.825901</td>\n",
       "    </tr>\n",
       "    <tr>\n",
       "      <th>2</th>\n",
       "      <td>7.972815</td>\n",
       "      <td>4.240000</td>\n",
       "      <td>8.010640</td>\n",
       "      <td>2.493600</td>\n",
       "      <td>12.796800</td>\n",
       "      <td>1.050043</td>\n",
       "      <td>1254.924000</td>\n",
       "      <td>1363.209200</td>\n",
       "      <td>0.808378</td>\n",
       "      <td>1.298106</td>\n",
       "      <td>409.160000</td>\n",
       "      <td>1.463943</td>\n",
       "    </tr>\n",
       "    <tr>\n",
       "      <th>3</th>\n",
       "      <td>9.343431</td>\n",
       "      <td>3.761905</td>\n",
       "      <td>7.031786</td>\n",
       "      <td>2.492619</td>\n",
       "      <td>12.787667</td>\n",
       "      <td>1.026439</td>\n",
       "      <td>1380.237143</td>\n",
       "      <td>1486.291429</td>\n",
       "      <td>0.809888</td>\n",
       "      <td>1.263025</td>\n",
       "      <td>406.348837</td>\n",
       "      <td>0.166669</td>\n",
       "    </tr>\n",
       "    <tr>\n",
       "      <th>4</th>\n",
       "      <td>6.102327</td>\n",
       "      <td>4.457143</td>\n",
       "      <td>8.551143</td>\n",
       "      <td>2.566286</td>\n",
       "      <td>12.798229</td>\n",
       "      <td>1.062233</td>\n",
       "      <td>1548.010286</td>\n",
       "      <td>1665.515429</td>\n",
       "      <td>0.907135</td>\n",
       "      <td>1.263479</td>\n",
       "      <td>435.333333</td>\n",
       "      <td>0.313820</td>\n",
       "    </tr>\n",
       "  </tbody>\n",
       "</table>\n",
       "</div>"
      ],
      "text/plain": [
       "       dist      at_n      at_w    el_neg     ion_en    el_aff           mp  \\\n",
       "0  7.421214  3.849057  7.234868  2.479811  12.726113  1.024340  1528.964906   \n",
       "1  4.567176  3.675676  6.821243  2.412162  12.740162  1.001057  1366.060000   \n",
       "2  7.972815  4.240000  8.010640  2.493600  12.796800  1.050043  1254.924000   \n",
       "3  9.343431  3.761905  7.031786  2.492619  12.787667  1.026439  1380.237143   \n",
       "4  6.102327  4.457143  8.551143  2.566286  12.798229  1.062233  1548.010286   \n",
       "\n",
       "            bp       den       len     bond_en     Reorg  \n",
       "0  1644.488302  0.898466  1.274554  416.872727  0.631486  \n",
       "1  1476.818108  0.852533  1.289784  384.307692  0.825901  \n",
       "2  1363.209200  0.808378  1.298106  409.160000  1.463943  \n",
       "3  1486.291429  0.809888  1.263025  406.348837  0.166669  \n",
       "4  1665.515429  0.907135  1.263479  435.333333  0.313820  "
      ]
     },
     "execution_count": 29,
     "metadata": {},
     "output_type": "execute_result"
    }
   ],
   "source": [
    "train_set.head()"
   ]
  },
  {
   "cell_type": "code",
   "execution_count": 30,
   "id": "30d8d8c9",
   "metadata": {},
   "outputs": [
    {
     "data": {
      "text/html": [
       "<div>\n",
       "<style scoped>\n",
       "    .dataframe tbody tr th:only-of-type {\n",
       "        vertical-align: middle;\n",
       "    }\n",
       "\n",
       "    .dataframe tbody tr th {\n",
       "        vertical-align: top;\n",
       "    }\n",
       "\n",
       "    .dataframe thead th {\n",
       "        text-align: right;\n",
       "    }\n",
       "</style>\n",
       "<table border=\"1\" class=\"dataframe\">\n",
       "  <thead>\n",
       "    <tr style=\"text-align: right;\">\n",
       "      <th></th>\n",
       "      <th>dist</th>\n",
       "      <th>at_n</th>\n",
       "      <th>at_w</th>\n",
       "      <th>el_neg</th>\n",
       "      <th>ion_en</th>\n",
       "      <th>el_aff</th>\n",
       "      <th>mp</th>\n",
       "      <th>bp</th>\n",
       "      <th>den</th>\n",
       "      <th>len</th>\n",
       "      <th>bond_en</th>\n",
       "    </tr>\n",
       "  </thead>\n",
       "  <tbody>\n",
       "    <tr>\n",
       "      <th>0</th>\n",
       "      <td>7.426456</td>\n",
       "      <td>4.440000</td>\n",
       "      <td>8.570584</td>\n",
       "      <td>2.489800</td>\n",
       "      <td>12.456060</td>\n",
       "      <td>1.196580</td>\n",
       "      <td>2106.619600</td>\n",
       "      <td>2296.488200</td>\n",
       "      <td>1.270908</td>\n",
       "      <td>1.330743</td>\n",
       "      <td>436.148148</td>\n",
       "    </tr>\n",
       "    <tr>\n",
       "      <th>1</th>\n",
       "      <td>4.764177</td>\n",
       "      <td>4.250000</td>\n",
       "      <td>8.091417</td>\n",
       "      <td>2.560000</td>\n",
       "      <td>12.976333</td>\n",
       "      <td>1.028300</td>\n",
       "      <td>1295.142500</td>\n",
       "      <td>1394.860000</td>\n",
       "      <td>0.756032</td>\n",
       "      <td>1.265567</td>\n",
       "      <td>412.840000</td>\n",
       "    </tr>\n",
       "    <tr>\n",
       "      <th>2</th>\n",
       "      <td>6.825332</td>\n",
       "      <td>4.139535</td>\n",
       "      <td>7.847698</td>\n",
       "      <td>2.450930</td>\n",
       "      <td>12.555395</td>\n",
       "      <td>1.046525</td>\n",
       "      <td>1710.036279</td>\n",
       "      <td>1843.891860</td>\n",
       "      <td>1.049928</td>\n",
       "      <td>1.299365</td>\n",
       "      <td>410.782609</td>\n",
       "    </tr>\n",
       "    <tr>\n",
       "      <th>3</th>\n",
       "      <td>16.311959</td>\n",
       "      <td>3.294118</td>\n",
       "      <td>6.038225</td>\n",
       "      <td>2.394118</td>\n",
       "      <td>12.691098</td>\n",
       "      <td>0.983584</td>\n",
       "      <td>1509.683922</td>\n",
       "      <td>1622.687451</td>\n",
       "      <td>0.889138</td>\n",
       "      <td>1.270826</td>\n",
       "      <td>406.127451</td>\n",
       "    </tr>\n",
       "    <tr>\n",
       "      <th>4</th>\n",
       "      <td>10.627192</td>\n",
       "      <td>4.439024</td>\n",
       "      <td>8.475951</td>\n",
       "      <td>2.418293</td>\n",
       "      <td>12.265366</td>\n",
       "      <td>1.087375</td>\n",
       "      <td>1984.332683</td>\n",
       "      <td>2144.283415</td>\n",
       "      <td>1.262043</td>\n",
       "      <td>1.328075</td>\n",
       "      <td>423.227273</td>\n",
       "    </tr>\n",
       "  </tbody>\n",
       "</table>\n",
       "</div>"
      ],
      "text/plain": [
       "        dist      at_n      at_w    el_neg     ion_en    el_aff           mp  \\\n",
       "0   7.426456  4.440000  8.570584  2.489800  12.456060  1.196580  2106.619600   \n",
       "1   4.764177  4.250000  8.091417  2.560000  12.976333  1.028300  1295.142500   \n",
       "2   6.825332  4.139535  7.847698  2.450930  12.555395  1.046525  1710.036279   \n",
       "3  16.311959  3.294118  6.038225  2.394118  12.691098  0.983584  1509.683922   \n",
       "4  10.627192  4.439024  8.475951  2.418293  12.265366  1.087375  1984.332683   \n",
       "\n",
       "            bp       den       len     bond_en  \n",
       "0  2296.488200  1.270908  1.330743  436.148148  \n",
       "1  1394.860000  0.756032  1.265567  412.840000  \n",
       "2  1843.891860  1.049928  1.299365  410.782609  \n",
       "3  1622.687451  0.889138  1.270826  406.127451  \n",
       "4  2144.283415  1.262043  1.328075  423.227273  "
      ]
     },
     "execution_count": 30,
     "metadata": {},
     "output_type": "execute_result"
    }
   ],
   "source": [
    "test_set.head()"
   ]
  },
  {
   "cell_type": "code",
   "execution_count": 31,
   "id": "8f344e9f",
   "metadata": {},
   "outputs": [],
   "source": [
    "X_train, y_train = train_set[features], train_set[label]\n",
    "X_test = test_set"
   ]
  },
  {
   "cell_type": "code",
   "execution_count": 32,
   "id": "cbd3586a",
   "metadata": {},
   "outputs": [
    {
     "data": {
      "text/plain": [
       "RandomForestRegressor(n_jobs=-1)"
      ]
     },
     "execution_count": 32,
     "metadata": {},
     "output_type": "execute_result"
    }
   ],
   "source": [
    "model = rf(n_jobs=-1)\n",
    "model.fit(X_train, y_train)"
   ]
  },
  {
   "cell_type": "code",
   "execution_count": 33,
   "id": "7916daa9",
   "metadata": {},
   "outputs": [],
   "source": [
    "pred = model.predict(X_test)"
   ]
  },
  {
   "cell_type": "code",
   "execution_count": 34,
   "id": "cbf05088",
   "metadata": {},
   "outputs": [],
   "source": [
    "sample['Reorg_g'] = pred[:457]\n",
    "sample['Reorg_ex'] = pred[457:]"
   ]
  },
  {
   "cell_type": "code",
   "execution_count": 35,
   "id": "ecafd79a",
   "metadata": {},
   "outputs": [],
   "source": [
    "sample.to_csv('submission_2.csv', index=False)"
   ]
  },
  {
   "cell_type": "markdown",
   "id": "29f0013f",
   "metadata": {},
   "source": [
    "#### log transformed model"
   ]
  },
  {
   "cell_type": "code",
   "execution_count": 21,
   "id": "f4e83713",
   "metadata": {},
   "outputs": [],
   "source": [
    "sample = pd.read_csv(path + 'sample_submission.csv')\n",
    "train_set = pd.read_csv('train_set.csv')\n",
    "test_set = pd.read_csv('test_set.csv')"
   ]
  },
  {
   "cell_type": "code",
   "execution_count": 22,
   "id": "7335f4a5",
   "metadata": {},
   "outputs": [],
   "source": [
    "X_train, y_train = train_set[features], np.log1p(train_set[label])\n",
    "X_test = test_set"
   ]
  },
  {
   "cell_type": "code",
   "execution_count": 23,
   "id": "f9fbba72",
   "metadata": {},
   "outputs": [
    {
     "data": {
      "text/plain": [
       "RandomForestRegressor(n_jobs=-1)"
      ]
     },
     "execution_count": 23,
     "metadata": {},
     "output_type": "execute_result"
    }
   ],
   "source": [
    "model = rf(n_jobs=-1)\n",
    "model.fit(X_train, y_train)"
   ]
  },
  {
   "cell_type": "code",
   "execution_count": 24,
   "id": "1b28bdc7",
   "metadata": {},
   "outputs": [],
   "source": [
    "pred = np.expm1(model.predict(X_test))"
   ]
  },
  {
   "cell_type": "code",
   "execution_count": 25,
   "id": "33820abb",
   "metadata": {},
   "outputs": [],
   "source": [
    "sample['Reorg_g'] = pred[:457]\n",
    "sample['Reorg_ex'] = pred[457:]"
   ]
  },
  {
   "cell_type": "code",
   "execution_count": 26,
   "id": "32d286b7",
   "metadata": {},
   "outputs": [],
   "source": [
    "sample.to_csv('submission_3.csv', index=False)"
   ]
  }
 ],
 "metadata": {
  "kernelspec": {
   "display_name": "Python 3 (ipykernel)",
   "language": "python",
   "name": "python3"
  },
  "language_info": {
   "codemirror_mode": {
    "name": "ipython",
    "version": 3
   },
   "file_extension": ".py",
   "mimetype": "text/x-python",
   "name": "python",
   "nbconvert_exporter": "python",
   "pygments_lexer": "ipython3",
   "version": "3.9.12"
  }
 },
 "nbformat": 4,
 "nbformat_minor": 5
}
