{
 "cells": [
  {
   "cell_type": "markdown",
   "id": "49923f57",
   "metadata": {},
   "source": [
    "## Data Understanding\n",
    "- load/observe mol files\n",
    "- create csv files"
   ]
  },
  {
   "cell_type": "code",
   "execution_count": 1,
   "id": "9a7e30af",
   "metadata": {},
   "outputs": [],
   "source": [
    "import pandas as pd\n",
    "import numpy as np\n",
    "import re\n",
    "import seaborn as sns\n",
    "import matplotlib.pyplot as plt\n",
    "import warnings\n",
    "warnings.simplefilter(action='ignore')"
   ]
  },
  {
   "cell_type": "code",
   "execution_count": 2,
   "id": "48548785",
   "metadata": {},
   "outputs": [],
   "source": [
    "from glob import glob\n",
    "from tqdm import tqdm"
   ]
  },
  {
   "cell_type": "code",
   "execution_count": 3,
   "id": "d2459fbb",
   "metadata": {},
   "outputs": [],
   "source": [
    "path = 'data/'\n",
    "\n",
    "sample = pd.read_csv(path + 'sample_submission.csv')\n",
    "train = pd.read_csv(path + 'train_set.ReorgE.csv')\n",
    "test = pd.read_csv(path + 'test_set.csv')"
   ]
  },
  {
   "cell_type": "code",
   "execution_count": 4,
   "id": "8c56b1b3",
   "metadata": {},
   "outputs": [
    {
     "data": {
      "text/html": [
       "<div>\n",
       "<style scoped>\n",
       "    .dataframe tbody tr th:only-of-type {\n",
       "        vertical-align: middle;\n",
       "    }\n",
       "\n",
       "    .dataframe tbody tr th {\n",
       "        vertical-align: top;\n",
       "    }\n",
       "\n",
       "    .dataframe thead th {\n",
       "        text-align: right;\n",
       "    }\n",
       "</style>\n",
       "<table border=\"1\" class=\"dataframe\">\n",
       "  <thead>\n",
       "    <tr style=\"text-align: right;\">\n",
       "      <th></th>\n",
       "      <th>index</th>\n",
       "      <th>SMILES</th>\n",
       "      <th>Reorg_g</th>\n",
       "      <th>Reorg_ex</th>\n",
       "    </tr>\n",
       "  </thead>\n",
       "  <tbody>\n",
       "    <tr>\n",
       "      <th>0</th>\n",
       "      <td>train_0</td>\n",
       "      <td>CC[C@H]1CCCCN1C(=O)[C@@H](C)OC(=O)c1c(C)oc(-n2...</td>\n",
       "      <td>0.631486</td>\n",
       "      <td>0.535060</td>\n",
       "    </tr>\n",
       "    <tr>\n",
       "      <th>1</th>\n",
       "      <td>train_1</td>\n",
       "      <td>O[C@@H](CNC1CC1)CN1CCc2sccc2C1</td>\n",
       "      <td>0.825901</td>\n",
       "      <td>1.116781</td>\n",
       "    </tr>\n",
       "    <tr>\n",
       "      <th>2</th>\n",
       "      <td>train_2</td>\n",
       "      <td>N#CCCNC(=O)[C@@]1(O)CCSC1</td>\n",
       "      <td>1.463943</td>\n",
       "      <td>0.964848</td>\n",
       "    </tr>\n",
       "    <tr>\n",
       "      <th>3</th>\n",
       "      <td>train_3</td>\n",
       "      <td>COC[C@H]1CN(c2ccc(OCC[C@@H](C)O)cc2)C(=O)O1</td>\n",
       "      <td>0.166669</td>\n",
       "      <td>0.161458</td>\n",
       "    </tr>\n",
       "    <tr>\n",
       "      <th>4</th>\n",
       "      <td>train_4</td>\n",
       "      <td>N#Cc1c(-c2ccccc2OCC(N)=O)[nH]c(C(N)=O)c1N</td>\n",
       "      <td>0.313820</td>\n",
       "      <td>0.338862</td>\n",
       "    </tr>\n",
       "    <tr>\n",
       "      <th>...</th>\n",
       "      <td>...</td>\n",
       "      <td>...</td>\n",
       "      <td>...</td>\n",
       "      <td>...</td>\n",
       "    </tr>\n",
       "    <tr>\n",
       "      <th>18152</th>\n",
       "      <td>train_18152</td>\n",
       "      <td>CC(=O)Nc1ccc2ccc3cccc4ccc1c2c34</td>\n",
       "      <td>0.146917</td>\n",
       "      <td>0.143084</td>\n",
       "    </tr>\n",
       "    <tr>\n",
       "      <th>18153</th>\n",
       "      <td>train_18153</td>\n",
       "      <td>CC(C)(C)c1ccccc1N(c1ccccc1)c1ccc(S(=O)(=O)c2cc...</td>\n",
       "      <td>0.612898</td>\n",
       "      <td>0.500668</td>\n",
       "    </tr>\n",
       "    <tr>\n",
       "      <th>18154</th>\n",
       "      <td>train_18154</td>\n",
       "      <td>CN(C)c1ccc(C(=O)Nc2ccccc2)cc1</td>\n",
       "      <td>1.218777</td>\n",
       "      <td>1.048954</td>\n",
       "    </tr>\n",
       "    <tr>\n",
       "      <th>18155</th>\n",
       "      <td>train_18155</td>\n",
       "      <td>c1ccc(N(c2ccccc2)c2ccc(-c3ncc(-c4ccc(-c5cnc(-c...</td>\n",
       "      <td>0.145292</td>\n",
       "      <td>0.182589</td>\n",
       "    </tr>\n",
       "    <tr>\n",
       "      <th>18156</th>\n",
       "      <td>train_18156</td>\n",
       "      <td>COCCC1(CCOC)c2cc(-c3ccc(OC)cc3)ccc2-c2ccc(-c3c...</td>\n",
       "      <td>0.252465</td>\n",
       "      <td>0.306627</td>\n",
       "    </tr>\n",
       "  </tbody>\n",
       "</table>\n",
       "<p>18157 rows × 4 columns</p>\n",
       "</div>"
      ],
      "text/plain": [
       "             index                                             SMILES  \\\n",
       "0          train_0  CC[C@H]1CCCCN1C(=O)[C@@H](C)OC(=O)c1c(C)oc(-n2...   \n",
       "1          train_1                     O[C@@H](CNC1CC1)CN1CCc2sccc2C1   \n",
       "2          train_2                          N#CCCNC(=O)[C@@]1(O)CCSC1   \n",
       "3          train_3        COC[C@H]1CN(c2ccc(OCC[C@@H](C)O)cc2)C(=O)O1   \n",
       "4          train_4          N#Cc1c(-c2ccccc2OCC(N)=O)[nH]c(C(N)=O)c1N   \n",
       "...            ...                                                ...   \n",
       "18152  train_18152                    CC(=O)Nc1ccc2ccc3cccc4ccc1c2c34   \n",
       "18153  train_18153  CC(C)(C)c1ccccc1N(c1ccccc1)c1ccc(S(=O)(=O)c2cc...   \n",
       "18154  train_18154                      CN(C)c1ccc(C(=O)Nc2ccccc2)cc1   \n",
       "18155  train_18155  c1ccc(N(c2ccccc2)c2ccc(-c3ncc(-c4ccc(-c5cnc(-c...   \n",
       "18156  train_18156  COCCC1(CCOC)c2cc(-c3ccc(OC)cc3)ccc2-c2ccc(-c3c...   \n",
       "\n",
       "        Reorg_g  Reorg_ex  \n",
       "0      0.631486  0.535060  \n",
       "1      0.825901  1.116781  \n",
       "2      1.463943  0.964848  \n",
       "3      0.166669  0.161458  \n",
       "4      0.313820  0.338862  \n",
       "...         ...       ...  \n",
       "18152  0.146917  0.143084  \n",
       "18153  0.612898  0.500668  \n",
       "18154  1.218777  1.048954  \n",
       "18155  0.145292  0.182589  \n",
       "18156  0.252465  0.306627  \n",
       "\n",
       "[18157 rows x 4 columns]"
      ]
     },
     "execution_count": 4,
     "metadata": {},
     "output_type": "execute_result"
    }
   ],
   "source": [
    "train"
   ]
  },
  {
   "cell_type": "markdown",
   "id": "719e1e33",
   "metadata": {},
   "source": [
    "## Loading MOL Files\n",
    "- train_set\n",
    "- test_set"
   ]
  },
  {
   "cell_type": "markdown",
   "id": "f623a367",
   "metadata": {},
   "source": [
    "### train_set"
   ]
  },
  {
   "cell_type": "code",
   "execution_count": 5,
   "id": "f414b187",
   "metadata": {},
   "outputs": [],
   "source": [
    "path = 'data/mol_files/train_set/'\n",
    "\n",
    "train_mol = sorted(glob(path + '*.mol'))"
   ]
  },
  {
   "cell_type": "code",
   "execution_count": 6,
   "id": "eed607e3",
   "metadata": {},
   "outputs": [
    {
     "data": {
      "text/plain": [
       "['data/mol_files/train_set\\\\train_0_ex.mol',\n",
       " 'data/mol_files/train_set\\\\train_0_g.mol',\n",
       " 'data/mol_files/train_set\\\\train_10000_ex.mol',\n",
       " 'data/mol_files/train_set\\\\train_10000_g.mol',\n",
       " 'data/mol_files/train_set\\\\train_10001_ex.mol',\n",
       " 'data/mol_files/train_set\\\\train_10001_g.mol',\n",
       " 'data/mol_files/train_set\\\\train_10002_ex.mol',\n",
       " 'data/mol_files/train_set\\\\train_10002_g.mol',\n",
       " 'data/mol_files/train_set\\\\train_10003_ex.mol',\n",
       " 'data/mol_files/train_set\\\\train_10003_g.mol']"
      ]
     },
     "execution_count": 6,
     "metadata": {},
     "output_type": "execute_result"
    }
   ],
   "source": [
    "train_mol[:10]"
   ]
  },
  {
   "cell_type": "markdown",
   "id": "2c10141d",
   "metadata": {},
   "source": [
    "### test_set"
   ]
  },
  {
   "cell_type": "code",
   "execution_count": 7,
   "id": "eea3673e",
   "metadata": {},
   "outputs": [],
   "source": [
    "path = 'data/mol_files/test_set/'\n",
    "\n",
    "test_mol = sorted(glob(path + '*.mol'))"
   ]
  },
  {
   "cell_type": "code",
   "execution_count": 8,
   "id": "5471cde8",
   "metadata": {
    "scrolled": false
   },
   "outputs": [
    {
     "data": {
      "text/plain": [
       "['data/mol_files/test_set\\\\test_0_ex.mol',\n",
       " 'data/mol_files/test_set\\\\test_0_g.mol',\n",
       " 'data/mol_files/test_set\\\\test_100_ex.mol',\n",
       " 'data/mol_files/test_set\\\\test_100_g.mol',\n",
       " 'data/mol_files/test_set\\\\test_101_ex.mol',\n",
       " 'data/mol_files/test_set\\\\test_101_g.mol',\n",
       " 'data/mol_files/test_set\\\\test_102_ex.mol',\n",
       " 'data/mol_files/test_set\\\\test_102_g.mol',\n",
       " 'data/mol_files/test_set\\\\test_103_ex.mol',\n",
       " 'data/mol_files/test_set\\\\test_103_g.mol']"
      ]
     },
     "execution_count": 8,
     "metadata": {},
     "output_type": "execute_result"
    }
   ],
   "source": [
    "test_mol[:10]"
   ]
  },
  {
   "cell_type": "markdown",
   "id": "838c8bf9",
   "metadata": {},
   "source": [
    "## Observing MOL Files\n",
    "- file structure\n",
    "- length of an element"
   ]
  },
  {
   "cell_type": "markdown",
   "id": "e5358676",
   "metadata": {},
   "source": [
    "### File Structure"
   ]
  },
  {
   "cell_type": "code",
   "execution_count": 9,
   "id": "f241b20a",
   "metadata": {
    "scrolled": true
   },
   "outputs": [
    {
     "data": {
      "text/plain": [
       "['',\n",
       " '     RDKit          3D',\n",
       " '',\n",
       " ' 53 55  0  0  0  0  0  0  0  0999 V2000',\n",
       " '    3.0263   -2.3512    0.5507 C   0  0  0  0  0  0  0  0  0  0  0  0',\n",
       " '    3.4398   -0.9997    1.1366 C   0  0  0  0  0  0  0  0  0  0  0  0',\n",
       " '    3.3570    0.1784    0.1392 C   0  0  1  0  0  0  0  0  0  0  0  0',\n",
       " '    1.9344    0.5133   -0.3583 C   0  0  0  0  0  0  0  0  0  0  0  0',\n",
       " '    1.0782    1.2336    0.6877 C   0  0  0  0  0  0  0  0  0  0  0  0',\n",
       " '    1.8074    2.4846    1.1839 C   0  0  0  0  0  0  0  0  0  0  0  0',\n",
       " '    3.2042    2.1347    1.6952 C   0  0  0  0  0  0  0  0  0  0  0  0',\n",
       " '    3.9824    1.3938    0.6950 N   0  0  0  0  0  0  0  0  0  0  0  0',\n",
       " '    5.3098    1.7286    0.5618 C   0  0  0  0  0  0  0  0  0  0  0  0',\n",
       " '    5.8180    2.6625    1.1588 O   0  0  0  0  0  0  0  0  0  0  0  0',\n",
       " '    6.1704    0.9343   -0.4511 C   0  0  1  0  0  0  0  0  0  0  0  0',\n",
       " '    6.1652    1.6104   -1.8172 C   0  0  0  0  0  0  0  0  0  0  0  0',\n",
       " '    7.5285    0.9327   -0.0090 O   0  0  0  0  0  0  0  0  0  0  0  0',\n",
       " '    7.8120    0.2595    1.1172 C   0  0  0  0  0  0  0  0  0  0  0  0',\n",
       " '    6.9822   -0.3964    1.7203 O   0  0  0  0  0  0  0  0  0  0  0  0',\n",
       " '    9.2281    0.4129    1.4922 C   0  0  0  0  0  0  0  0  0  0  0  0',\n",
       " '    9.8016   -0.1651    2.6022 C   0  0  0  0  0  0  0  0  0  0  0  0',\n",
       " '    9.2703   -1.0451    3.6740 C   0  0  0  0  0  0  0  0  0  0  0  0',\n",
       " '   11.1211    0.1683    2.7004 O   0  0  0  0  0  0  0  0  0  0  0  0',\n",
       " '   11.3925    0.9913    1.6162 C   0  0  0  0  0  0  0  0  0  0  0  0',\n",
       " '   12.7385    1.4594    1.5293 N   0  0  0  0  0  0  0  0  0  0  0  0',\n",
       " '   13.7305    1.1952    2.4103 C   0  0  0  0  0  0  0  0  0  0  0  0',\n",
       " '   14.9480    1.8498    1.9842 C   0  0  0  0  0  0  0  0  0  0  0  0',\n",
       " '   14.6465    2.5109    0.8249 C   0  0  0  0  0  0  0  0  0  0  0  0',\n",
       " '   13.2508    2.2542    0.5515 C   0  0  0  0  0  0  0  0  0  0  0  0',\n",
       " '   10.2488    1.1895    0.7922 C   0  0  0  0  0  0  0  0  0  0  0  0',\n",
       " '   10.1913    1.9327   -0.3851 C   0  0  0  0  0  0  0  0  0  0  0  0',\n",
       " '   10.2808    2.5968   -1.3795 N   0  0  0  0  0  0  0  0  0  0  0  0',\n",
       " '    3.1962   -3.1596    1.2791 H   0  0  0  0  0  0  0  0  0  0  0  0',\n",
       " '    3.6136   -2.5959   -0.3511 H   0  0  0  0  0  0  0  0  0  0  0  0',\n",
       " '    1.9610   -2.3841    0.2703 H   0  0  0  0  0  0  0  0  0  0  0  0',\n",
       " '    4.4839   -1.0540    1.4846 H   0  0  0  0  0  0  0  0  0  0  0  0',\n",
       " '    2.8284   -0.7822    2.0290 H   0  0  0  0  0  0  0  0  0  0  0  0',\n",
       " '    3.9278   -0.1128   -0.7528 H   0  0  0  0  0  0  0  0  0  0  0  0',\n",
       " '    1.4427   -0.4108   -0.7005 H   0  0  0  0  0  0  0  0  0  0  0  0',\n",
       " '    2.0296    1.1638   -1.2452 H   0  0  0  0  0  0  0  0  0  0  0  0',\n",
       " '    0.8733    0.5613    1.5402 H   0  0  0  0  0  0  0  0  0  0  0  0',\n",
       " '    0.0972    1.4948    0.2574 H   0  0  0  0  0  0  0  0  0  0  0  0',\n",
       " '    1.2412    2.9808    1.9897 H   0  0  0  0  0  0  0  0  0  0  0  0',\n",
       " '    1.8958    3.2125    0.3579 H   0  0  0  0  0  0  0  0  0  0  0  0',\n",
       " '    3.1226    1.5331    2.6208 H   0  0  0  0  0  0  0  0  0  0  0  0',\n",
       " '    3.7830    3.0308    1.9478 H   0  0  0  0  0  0  0  0  0  0  0  0',\n",
       " '    5.8377   -0.1094   -0.5219 H   0  0  0  0  0  0  0  0  0  0  0  0',\n",
       " '    6.5190    2.6465   -1.7170 H   0  0  0  0  0  0  0  0  0  0  0  0',\n",
       " '    5.1497    1.6190   -2.2419 H   0  0  0  0  0  0  0  0  0  0  0  0',\n",
       " '    6.8376    1.0790   -2.5064 H   0  0  0  0  0  0  0  0  0  0  0  0',\n",
       " '    8.2049   -1.2308    3.4992 H   0  0  0  0  0  0  0  0  0  0  0  0',\n",
       " '    9.4008   -0.5745    4.6636 H   0  0  0  0  0  0  0  0  0  0  0  0',\n",
       " '    9.8110   -2.0072    3.6934 H   0  0  0  0  0  0  0  0  0  0  0  0',\n",
       " '   13.5433    0.5730    3.2822 H   0  0  0  0  0  0  0  0  0  0  0  0',\n",
       " '   15.8968    1.8010    2.5130 H   0  0  0  0  0  0  0  0  0  0  0  0',\n",
       " '   15.2950    3.1201    0.2001 H   0  0  0  0  0  0  0  0  0  0  0  0',\n",
       " '   12.6269    2.5982   -0.2734 H   0  0  0  0  0  0  0  0  0  0  0  0',\n",
       " '  1  2  1  0',\n",
       " '  1 29  1  0',\n",
       " '  1 30  1  0',\n",
       " '  1 31  1  0',\n",
       " '  2  3  1  0',\n",
       " '  2 32  1  0',\n",
       " '  2 33  1  0',\n",
       " '  3  4  1  0',\n",
       " '  3  8  1  0',\n",
       " '  3 34  1  6',\n",
       " '  4  5  1  0',\n",
       " '  4 35  1  0',\n",
       " '  4 36  1  0',\n",
       " '  5  6  1  0',\n",
       " '  5 37  1  0',\n",
       " '  5 38  1  0',\n",
       " '  6  7  1  0',\n",
       " '  6 39  1  0',\n",
       " '  6 40  1  0',\n",
       " '  7  8  1  0',\n",
       " '  7 41  1  0',\n",
       " '  7 42  1  0',\n",
       " '  8  9  1  0',\n",
       " '  9 10  2  0',\n",
       " '  9 11  1  0',\n",
       " ' 11 12  1  0',\n",
       " ' 11 13  1  0',\n",
       " ' 11 43  1  6',\n",
       " ' 12 44  1  0',\n",
       " ' 12 45  1  0',\n",
       " ' 12 46  1  0',\n",
       " ' 13 14  1  0',\n",
       " ' 14 15  2  0',\n",
       " ' 14 16  1  0',\n",
       " ' 16 17  2  0',\n",
       " ' 16 26  1  0',\n",
       " ' 17 18  1  0',\n",
       " ' 17 19  1  0',\n",
       " ' 18 47  1  0',\n",
       " ' 18 48  1  0',\n",
       " ' 18 49  1  0',\n",
       " ' 19 20  1  0',\n",
       " ' 20 21  1  0',\n",
       " ' 20 26  2  0',\n",
       " ' 21 22  1  0',\n",
       " ' 21 25  1  0',\n",
       " ' 22 23  2  0',\n",
       " ' 22 50  1  0',\n",
       " ' 23 24  1  0',\n",
       " ' 23 51  1  0',\n",
       " ' 24 25  2  0',\n",
       " ' 24 52  1  0',\n",
       " ' 25 53  1  0',\n",
       " ' 26 27  1  0',\n",
       " ' 27 28  3  0',\n",
       " 'M  END',\n",
       " '',\n",
       " '']"
      ]
     },
     "execution_count": 9,
     "metadata": {},
     "output_type": "execute_result"
    }
   ],
   "source": [
    "mol_file = open(train_mol[0], 'r').read().split(\"\\n\")\n",
    "mol_file\n",
    "\n",
    "##### Anatomy of a mol file #####\n",
    "\n",
    "# Counts Block\n",
    "# 53: number of atoms\n",
    "# 55: number of bonds\n",
    "\n",
    "# Atoms Block\n",
    "# 3.0263   -2.3512    0.5507: x, y, z coordinates\n",
    "# C: atom symbol\n",
    "\n",
    "# Bonds Block(1  2  1  0)\n",
    "# 1: first atom row number\n",
    "# 2: second atom row number\n",
    "# 1: bond type\n",
    "# 0: bond stereochemistry"
   ]
  },
  {
   "cell_type": "markdown",
   "id": "61820c9e",
   "metadata": {},
   "source": [
    "### Length of an Element\n",
    "- atoms block\n",
    "- bonds block"
   ]
  },
  {
   "cell_type": "code",
   "execution_count": 10,
   "id": "a40153c9",
   "metadata": {},
   "outputs": [
    {
     "name": "stdout",
     "output_type": "stream",
     "text": [
      "['3.0263', '-2.3512', '0.5507', 'C', '0', '0', '0', '0', '0', '0', '0', '0', '0', '0', '0', '0']\n"
     ]
    },
    {
     "data": {
      "text/plain": [
       "16"
      ]
     },
     "execution_count": 10,
     "metadata": {},
     "output_type": "execute_result"
    }
   ],
   "source": [
    "# atoms block\n",
    "tmp = re.sub(' +', ' ', mol_file[4].lstrip()).split(' ')\n",
    "\n",
    "print(tmp)\n",
    "len(tmp)"
   ]
  },
  {
   "cell_type": "code",
   "execution_count": 11,
   "id": "5226d0df",
   "metadata": {},
   "outputs": [
    {
     "name": "stdout",
     "output_type": "stream",
     "text": [
      "['27', '28', '3', '0']\n"
     ]
    },
    {
     "data": {
      "text/plain": [
       "4"
      ]
     },
     "execution_count": 11,
     "metadata": {},
     "output_type": "execute_result"
    }
   ],
   "source": [
    "# bonds block\n",
    "tmp = re.sub(' +', ' ', mol_file[-4].lstrip()).split(' ')\n",
    "\n",
    "print(tmp)\n",
    "len(tmp)"
   ]
  },
  {
   "cell_type": "code",
   "execution_count": 12,
   "id": "2c4d6119",
   "metadata": {},
   "outputs": [
    {
     "data": {
      "text/plain": [
       "{1, 2, 4, 11, 16}"
      ]
     },
     "execution_count": 12,
     "metadata": {},
     "output_type": "execute_result"
    }
   ],
   "source": [
    "length = []\n",
    "\n",
    "for i in mol_file:\n",
    "    tmp = re.sub(' +', ' ', i.lstrip()).split(' ')\n",
    "    length.append(len(tmp))\n",
    "\n",
    "set(length)"
   ]
  },
  {
   "cell_type": "markdown",
   "id": "11564e7a",
   "metadata": {},
   "source": [
    "## Creating CSV Files\n",
    "- atoms block\n",
    " - x, y, z coordinates\n",
    " - atom symbol\n",
    "- bonds block\n",
    " - bond type"
   ]
  },
  {
   "cell_type": "markdown",
   "id": "90c72479",
   "metadata": {},
   "source": [
    "### train_set"
   ]
  },
  {
   "cell_type": "code",
   "execution_count": 13,
   "id": "6794f836",
   "metadata": {},
   "outputs": [
    {
     "name": "stderr",
     "output_type": "stream",
     "text": [
      "100%|███████████████████████████████████████████████████████████████████████████| 36314/36314 [01:11<00:00, 505.57it/s]\n"
     ]
    }
   ],
   "source": [
    "# convert mol files to the form of dataframe(csv files)\n",
    "\n",
    "for i in tqdm(train_mol):\n",
    "    \n",
    "    atoms = []\n",
    "    bonds = []\n",
    "    mol_file = open(i, 'r').read().split(\"\\n\")\n",
    "    \n",
    "    # create nested lists\n",
    "    for j in mol_file:\n",
    "        tmp = re.sub(' +', ' ', j.lstrip()).split(' ') # remove blanks\n",
    "        \n",
    "        if len(tmp) > 11: # atoms block\n",
    "            atoms.append(tmp)\n",
    "        elif 4 <= len(tmp) < 10: # bonds block\n",
    "            bonds.append(tmp)\n",
    "            \n",
    "    file_name = i.split('\\\\')[-1].split('.')[0] # file name without filename extension(ex: train_0_g)\n",
    "    path = 'data/mol_files/train_set/'\n",
    "    \n",
    "    # create csv files\n",
    "    pd.DataFrame(atoms).to_csv(path + file_name + '_a.csv', index=False)\n",
    "    pd.DataFrame(bonds).to_csv(path + file_name + '_b.csv', index=False)"
   ]
  },
  {
   "cell_type": "code",
   "execution_count": 14,
   "id": "173e211b",
   "metadata": {},
   "outputs": [
    {
     "data": {
      "text/html": [
       "<div>\n",
       "<style scoped>\n",
       "    .dataframe tbody tr th:only-of-type {\n",
       "        vertical-align: middle;\n",
       "    }\n",
       "\n",
       "    .dataframe tbody tr th {\n",
       "        vertical-align: top;\n",
       "    }\n",
       "\n",
       "    .dataframe thead th {\n",
       "        text-align: right;\n",
       "    }\n",
       "</style>\n",
       "<table border=\"1\" class=\"dataframe\">\n",
       "  <thead>\n",
       "    <tr style=\"text-align: right;\">\n",
       "      <th></th>\n",
       "      <th>0</th>\n",
       "      <th>1</th>\n",
       "      <th>2</th>\n",
       "      <th>3</th>\n",
       "      <th>4</th>\n",
       "      <th>5</th>\n",
       "      <th>6</th>\n",
       "      <th>7</th>\n",
       "      <th>8</th>\n",
       "      <th>9</th>\n",
       "      <th>10</th>\n",
       "      <th>11</th>\n",
       "      <th>12</th>\n",
       "      <th>13</th>\n",
       "      <th>14</th>\n",
       "      <th>15</th>\n",
       "    </tr>\n",
       "  </thead>\n",
       "  <tbody>\n",
       "    <tr>\n",
       "      <th>0</th>\n",
       "      <td>2.8972</td>\n",
       "      <td>-2.3256</td>\n",
       "      <td>0.4309</td>\n",
       "      <td>C</td>\n",
       "      <td>0</td>\n",
       "      <td>0</td>\n",
       "      <td>0</td>\n",
       "      <td>0</td>\n",
       "      <td>0</td>\n",
       "      <td>0</td>\n",
       "      <td>0</td>\n",
       "      <td>0</td>\n",
       "      <td>0</td>\n",
       "      <td>0</td>\n",
       "      <td>0</td>\n",
       "      <td>0</td>\n",
       "    </tr>\n",
       "    <tr>\n",
       "      <th>1</th>\n",
       "      <td>3.3467</td>\n",
       "      <td>-1.0151</td>\n",
       "      <td>1.0796</td>\n",
       "      <td>C</td>\n",
       "      <td>0</td>\n",
       "      <td>0</td>\n",
       "      <td>0</td>\n",
       "      <td>0</td>\n",
       "      <td>0</td>\n",
       "      <td>0</td>\n",
       "      <td>0</td>\n",
       "      <td>0</td>\n",
       "      <td>0</td>\n",
       "      <td>0</td>\n",
       "      <td>0</td>\n",
       "      <td>0</td>\n",
       "    </tr>\n",
       "    <tr>\n",
       "      <th>2</th>\n",
       "      <td>3.3365</td>\n",
       "      <td>0.2041</td>\n",
       "      <td>0.1293</td>\n",
       "      <td>C</td>\n",
       "      <td>0</td>\n",
       "      <td>0</td>\n",
       "      <td>1</td>\n",
       "      <td>0</td>\n",
       "      <td>0</td>\n",
       "      <td>0</td>\n",
       "      <td>0</td>\n",
       "      <td>0</td>\n",
       "      <td>0</td>\n",
       "      <td>0</td>\n",
       "      <td>0</td>\n",
       "      <td>0</td>\n",
       "    </tr>\n",
       "    <tr>\n",
       "      <th>3</th>\n",
       "      <td>1.9424</td>\n",
       "      <td>0.6155</td>\n",
       "      <td>-0.3895</td>\n",
       "      <td>C</td>\n",
       "      <td>0</td>\n",
       "      <td>0</td>\n",
       "      <td>0</td>\n",
       "      <td>0</td>\n",
       "      <td>0</td>\n",
       "      <td>0</td>\n",
       "      <td>0</td>\n",
       "      <td>0</td>\n",
       "      <td>0</td>\n",
       "      <td>0</td>\n",
       "      <td>0</td>\n",
       "      <td>0</td>\n",
       "    </tr>\n",
       "    <tr>\n",
       "      <th>4</th>\n",
       "      <td>1.0870</td>\n",
       "      <td>1.3235</td>\n",
       "      <td>0.6658</td>\n",
       "      <td>C</td>\n",
       "      <td>0</td>\n",
       "      <td>0</td>\n",
       "      <td>0</td>\n",
       "      <td>0</td>\n",
       "      <td>0</td>\n",
       "      <td>0</td>\n",
       "      <td>0</td>\n",
       "      <td>0</td>\n",
       "      <td>0</td>\n",
       "      <td>0</td>\n",
       "      <td>0</td>\n",
       "      <td>0</td>\n",
       "    </tr>\n",
       "  </tbody>\n",
       "</table>\n",
       "</div>"
      ],
      "text/plain": [
       "        0       1       2  3  4  5  6  7  8  9  10  11  12  13  14  15\n",
       "0  2.8972 -2.3256  0.4309  C  0  0  0  0  0  0   0   0   0   0   0   0\n",
       "1  3.3467 -1.0151  1.0796  C  0  0  0  0  0  0   0   0   0   0   0   0\n",
       "2  3.3365  0.2041  0.1293  C  0  0  1  0  0  0   0   0   0   0   0   0\n",
       "3  1.9424  0.6155 -0.3895  C  0  0  0  0  0  0   0   0   0   0   0   0\n",
       "4  1.0870  1.3235  0.6658  C  0  0  0  0  0  0   0   0   0   0   0   0"
      ]
     },
     "execution_count": 14,
     "metadata": {},
     "output_type": "execute_result"
    }
   ],
   "source": [
    "path = 'data/mol_files/train_set/'\n",
    "\n",
    "# atoms block\n",
    "df = pd.read_csv(path + 'train_0_g_a.csv')\n",
    "df.head()"
   ]
  },
  {
   "cell_type": "code",
   "execution_count": 15,
   "id": "c8b3e6f6",
   "metadata": {},
   "outputs": [
    {
     "data": {
      "text/html": [
       "<div>\n",
       "<style scoped>\n",
       "    .dataframe tbody tr th:only-of-type {\n",
       "        vertical-align: middle;\n",
       "    }\n",
       "\n",
       "    .dataframe tbody tr th {\n",
       "        vertical-align: top;\n",
       "    }\n",
       "\n",
       "    .dataframe thead th {\n",
       "        text-align: right;\n",
       "    }\n",
       "</style>\n",
       "<table border=\"1\" class=\"dataframe\">\n",
       "  <thead>\n",
       "    <tr style=\"text-align: right;\">\n",
       "      <th></th>\n",
       "      <th>0</th>\n",
       "      <th>1</th>\n",
       "      <th>2</th>\n",
       "      <th>3</th>\n",
       "    </tr>\n",
       "  </thead>\n",
       "  <tbody>\n",
       "    <tr>\n",
       "      <th>0</th>\n",
       "      <td>1</td>\n",
       "      <td>2</td>\n",
       "      <td>1</td>\n",
       "      <td>0</td>\n",
       "    </tr>\n",
       "    <tr>\n",
       "      <th>1</th>\n",
       "      <td>1</td>\n",
       "      <td>29</td>\n",
       "      <td>1</td>\n",
       "      <td>0</td>\n",
       "    </tr>\n",
       "    <tr>\n",
       "      <th>2</th>\n",
       "      <td>1</td>\n",
       "      <td>30</td>\n",
       "      <td>1</td>\n",
       "      <td>0</td>\n",
       "    </tr>\n",
       "    <tr>\n",
       "      <th>3</th>\n",
       "      <td>1</td>\n",
       "      <td>31</td>\n",
       "      <td>1</td>\n",
       "      <td>0</td>\n",
       "    </tr>\n",
       "    <tr>\n",
       "      <th>4</th>\n",
       "      <td>2</td>\n",
       "      <td>3</td>\n",
       "      <td>1</td>\n",
       "      <td>0</td>\n",
       "    </tr>\n",
       "  </tbody>\n",
       "</table>\n",
       "</div>"
      ],
      "text/plain": [
       "   0   1  2  3\n",
       "0  1   2  1  0\n",
       "1  1  29  1  0\n",
       "2  1  30  1  0\n",
       "3  1  31  1  0\n",
       "4  2   3  1  0"
      ]
     },
     "execution_count": 15,
     "metadata": {},
     "output_type": "execute_result"
    }
   ],
   "source": [
    "# bonds block\n",
    "df = pd.read_csv(path + 'train_0_g_b.csv')\n",
    "df.head()"
   ]
  },
  {
   "cell_type": "markdown",
   "id": "5f5f687e",
   "metadata": {},
   "source": [
    "### test_set"
   ]
  },
  {
   "cell_type": "code",
   "execution_count": 16,
   "id": "0c33a702",
   "metadata": {},
   "outputs": [
    {
     "name": "stderr",
     "output_type": "stream",
     "text": [
      "100%|███████████████████████████████████████████████████████████████████████████████| 914/914 [00:01<00:00, 484.10it/s]\n"
     ]
    }
   ],
   "source": [
    "for i in tqdm(test_mol):\n",
    "    \n",
    "    atoms = []\n",
    "    bonds = []\n",
    "    mol_file = open(i, 'r').read().split(\"\\n\")\n",
    "    \n",
    "    for j in mol_file:\n",
    "        tmp = re.sub(' +', ' ', j.lstrip()).split(' ')\n",
    "        \n",
    "        if len(tmp) > 11:\n",
    "            atoms.append(tmp)\n",
    "        elif 4 <= len(tmp) < 10:\n",
    "            bonds.append(tmp)\n",
    "            \n",
    "    file_name = i.split('\\\\')[-1].split('.')[0]\n",
    "    path = 'data/mol_files/test_set/'\n",
    "    \n",
    "    pd.DataFrame(atoms).to_csv(path + file_name + '_a.csv', index=False)\n",
    "    pd.DataFrame(bonds).to_csv(path + file_name + '_b.csv', index=False)"
   ]
  }
 ],
 "metadata": {
  "kernelspec": {
   "display_name": "Python 3 (ipykernel)",
   "language": "python",
   "name": "python3"
  },
  "language_info": {
   "codemirror_mode": {
    "name": "ipython",
    "version": 3
   },
   "file_extension": ".py",
   "mimetype": "text/x-python",
   "name": "python",
   "nbconvert_exporter": "python",
   "pygments_lexer": "ipython3",
   "version": "3.9.12"
  }
 },
 "nbformat": 4,
 "nbformat_minor": 5
}
